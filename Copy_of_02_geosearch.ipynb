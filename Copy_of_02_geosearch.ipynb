{
  "cells": [
    {
      "cell_type": "code",
      "execution_count": 1,
      "metadata": {
        "id": "EtnaSlH-wplB"
      },
      "outputs": [],
      "source": [
        "# created on Dec 24, 2020\n",
        "# modified on April 12, 2022\n",
        "# @author:          Bo Zhao\n",
        "# @email:           zhaobo@uw.edu\n",
        "# @website:         https://hgis.uw.edu\n",
        "# @organization:    Department of Geography, University of Washington, Seattle\n",
        "# @description:     Search geo-tagged tweets within the U.S. This script is modified from https://github.com/shawn-terryah/Twitter_Geolocation"
      ]
    },
    {
      "cell_type": "code",
      "execution_count": 2,
      "metadata": {
        "id": "f-bMdKMawxnQ",
        "outputId": "edccff50-365a-4f77-a8f4-c6a6a298a86c",
        "colab": {
          "base_uri": "https://localhost:8080/"
        }
      },
      "outputs": [
        {
          "output_type": "stream",
          "name": "stdout",
          "text": [
            "Mounted at /gdrive\n"
          ]
        }
      ],
      "source": [
        "import tweepy, json, time\n",
        "import pandas as pd\n",
        "from google.colab import files\n",
        "# Create data on to Google Drive\n",
        "from google.colab import drive\n",
        "# Mount your Drive to the Colab VM.\n",
        "drive.mount('/gdrive')"
      ]
    },
    {
      "cell_type": "code",
      "execution_count": 5,
      "metadata": {
        "id": "dEyPts-ZwplE"
      },
      "outputs": [],
      "source": [
        "class StreamListener(tweepy.StreamListener):\n",
        "    \"\"\"tweepy.StreamListener is a class provided by tweepy used to access\n",
        "    the Twitter Streaming API to collect tweets in real-time.\n",
        "    \"\"\"\n",
        "\n",
        "    def __init__(self, time_limit=60, file=\"\"):\n",
        "        \"\"\"class initialization\"\"\"\n",
        "        self.start_time = time.time()\n",
        "        self.limit = time_limit\n",
        "        self.result = []\n",
        "        self.f = file\n",
        "        super(StreamListener, self).__init__()\n",
        "\n",
        "    def on_data(self, data):\n",
        "        \"\"\"This is called when data are streamed in.\"\"\"\n",
        "        if (time.time() - self.start_time) < self.limit:\n",
        "            datajson = json.loads(data)\n",
        "            # print(datajson, \"\\n\")\n",
        "            if 'id' not in datajson.keys():\n",
        "                time.sleep(10)\n",
        "            else:\n",
        "                id = datajson['id']\n",
        "                username = datajson['user']['screen_name']\n",
        "                created_at = datajson['created_at']\n",
        "                text = datajson['text'].strip().replace(\"\\n\", \"\")\n",
        "\n",
        "                # process the geo-tags\n",
        "                if datajson['coordinates'] == None:\n",
        "                    try:\n",
        "                        bbox = datajson['place']['bounding_box']['coordinates'][0]\n",
        "                        lng = (bbox[0][0] + bbox[2][0]) / 2.0\n",
        "                        lat = (bbox[0][1] + bbox[1][1]) / 2.0\n",
        "                    except:\n",
        "                        lat = 0\n",
        "                        lng = 0\n",
        "                else:\n",
        "                    lng = datajson['coordinates']['coordinates'][0]\n",
        "                    lat = datajson['coordinates']['coordinates'][1]\n",
        "\n",
        "                if lat != 0:\n",
        "                    row = {\n",
        "                        'id': id,\n",
        "                        'username': username,\n",
        "                        'created_at': created_at,\n",
        "                        'lng': lng,\n",
        "                        'lat': lat,\n",
        "                        'text': text\n",
        "                    }\n",
        "                    print(row)\n",
        "                    self.result.append(row)\n",
        "                else:\n",
        "                    pass\n",
        "        else:\n",
        "            df = pd.DataFrame(self.result)\n",
        "            df.to_csv(self.f, index=False)\n",
        "            # download the csv to your local computer\n",
        "            files.download(self.f)\n",
        "            print(\"the csv has been downloaded to your local computer. The program has been completed successfully.\")\n",
        "            return False"
      ]
    },
    {
      "cell_type": "code",
      "execution_count": 6,
      "metadata": {
        "id": "5Xzyo_OiwplG",
        "outputId": "97ae15cd-bc0a-4114-9042-d573ef25eddc",
        "colab": {
          "base_uri": "https://localhost:8080/",
          "height": 1000
        }
      },
      "outputs": [
        {
          "output_type": "stream",
          "name": "stdout",
          "text": [
            "{'id': 1518050044280283136, 'username': 'tanyareid107', 'created_at': 'Sun Apr 24 02:11:49 +0000 2022', 'lng': -4.0311015, 'lat': 55.859916, 'text': '@officialEIHL @DundeeStars @steelershockey with Stars grabbing a vital goal last few minutes taking a 1 goal advant… https://t.co/YrstULAMbI'}\n",
            "{'id': 1518050061774635012, 'username': 'TrixyLp', 'created_at': 'Sun Apr 24 02:11:53 +0000 2022', 'lng': 12.872485, 'lat': 41.4726865, 'text': \"♡︎welcome to my profile♥︎«it's a safe place»☀︎︎my dm always open☼︎ https://t.co/U3KlSdqQ7a\"}\n",
            "{'id': 1518050069014106112, 'username': 'Oumsinbebe', 'created_at': 'Sun Apr 24 02:11:55 +0000 2022', 'lng': -3.2030085, 'lat': 55.9431955, 'text': '@DrSaulNjie @OrrinHatch Lovely picture. You actually kinda look like a younger @SallahBabou here.'}\n",
            "{'id': 1518050124466991105, 'username': 'Yaminc3', 'created_at': 'Sun Apr 24 02:12:08 +0000 2022', 'lng': -0.3922755, 'lat': 51.6680785, 'text': 'He up now 🤞🏽 JT💫'}\n",
            "{'id': 1518050138949836808, 'username': 'PaulCraig91', 'created_at': 'Sun Apr 24 02:12:11 +0000 2022', 'lng': -4.259, 'lat': 55.858, 'text': 'Wee jaunt tae Glasgow with Larissa 😍💙#getoutmore #Dayoot #Saturdays #Glasgow #Scotland #scran #beers @ Glasgow, U… https://t.co/P6CaOw6f4p'}\n",
            "{'id': 1518050157618733057, 'username': 'PalaisVous', 'created_at': 'Sun Apr 24 02:12:16 +0000 2022', 'lng': 4.499617000000001, 'lat': 51.310007999999996, 'text': 'Friday glow @vous_palais_be get your FLUO outfits on an enjoy de sound of @dj_mj_soundsolution underneath electric… https://t.co/daCOHxkFBY'}\n",
            "{'id': 1518050170088435713, 'username': 'seans_shots', 'created_at': 'Sun Apr 24 02:12:19 +0000 2022', 'lng': -7.5308075, 'lat': 53.1364975, 'text': '\"can I\\'ve a pint of Guinness?\"Bro it\\'s 3am, we finished serving 2 hours ago and all of our glasses are washed and… https://t.co/Kpz8uRJ7Kv'}\n",
            "{'id': 1518050231660781572, 'username': 'DaveHow1', 'created_at': 'Sun Apr 24 02:12:33 +0000 2022', 'lng': -0.1965734, 'lat': 51.11530018, 'text': 'Just posted a photo @ Piercing Tattoos https://t.co/7xIrbdTiKA'}\n",
            "{'id': 1518050238484918272, 'username': 'enzo_th7', 'created_at': 'Sun Apr 24 02:12:35 +0000 2022', 'lng': -6.2476215, 'lat': 53.354902499999994, 'text': 'QUE ES ESTO BIZAAA??? MYKE TOWERS?????? https://t.co/nkFOO6JDTh'}\n",
            "{'id': 1518050248031100928, 'username': 'm_obendorfer', 'created_at': 'Sun Apr 24 02:12:37 +0000 2022', 'lng': 10.960778, 'lat': 49.4886975, 'text': '@kjwallen @dellafiora I know that feeling too well, I have a pollen allergy too... 😒 EVERY DAMN TIME around spring...'}\n",
            "{'id': 1518050252242173952, 'username': 'CarlRamboWilson', 'created_at': 'Sun Apr 24 02:12:38 +0000 2022', 'lng': -1.13936, 'lat': 53.517648, 'text': '@gxmxxchxx Really men are the worst?! 😂😂😂 https://t.co/DIVlGa8qpe'}\n",
            "{'id': 1518050289181503489, 'username': 'cheekiebarbie', 'created_at': 'Sun Apr 24 02:12:47 +0000 2022', 'lng': -3.7035074999999997, 'lat': 40.4777945, 'text': 'Late night tweets 💤 @TheWeirdosNFT https://t.co/rusAq3swGW'}\n",
            "{'id': 1518050290397847552, 'username': 'Outzie', 'created_at': 'Sun Apr 24 02:12:47 +0000 2022', 'lng': 9.1773475, 'lat': 48.7793015, 'text': '@EshraqTantawy Nice! What brands do you recommend then?'}\n",
            "{'id': 1518050296534114304, 'username': 'PalaisVous', 'created_at': 'Sun Apr 24 02:12:49 +0000 2022', 'lng': 4.499617000000001, 'lat': 51.310007999999996, 'text': '@UlulaXx Happy birthday babe! 🎉🍾🥂'}\n",
            "{'id': 1518050305912590336, 'username': 'seans_shots', 'created_at': 'Sun Apr 24 02:12:51 +0000 2022', 'lng': -7.5308075, 'lat': 53.1364975, 'text': \"Proud of this pint I pulled yesterday I'm ngl https://t.co/HuAoIO1G4T\"}\n",
            "{'id': 1518050318638108679, 'username': 'SenoLouis1963', 'created_at': 'Sun Apr 24 02:12:54 +0000 2022', 'lng': 2.9046944999999997, 'lat': 42.698786, 'text': '@FDelvfr Dommage'}\n",
            "{'id': 1518050355531202561, 'username': 'DonaldAxel', 'created_at': 'Sun Apr 24 02:13:03 +0000 2022', 'lng': 12.2126695, 'lat': 56.050246, 'text': '@UnderTheThunde2 @MsHaileyLux @GamesHorrific @krystalwolfy No your dumbfuck brain is working well in this case, myomy what a thread 🤯'}\n",
            "{'id': 1518050360560177153, 'username': 'mariecocoloso', 'created_at': 'Sun Apr 24 02:13:04 +0000 2022', 'lng': -0.115406, 'lat': 51.4603395, 'text': 'Grind mode will be activated tomorrow hopefully.'}\n",
            "{'id': 1518050399286181890, 'username': 'DeezyDevs', 'created_at': 'Sun Apr 24 02:13:13 +0000 2022', 'lng': -4.2417514999999995, 'lat': 55.85830249999999, 'text': '@dominicsjr This is hidEous'}\n",
            "{'id': 1518050411374166017, 'username': 'faruk_seydam', 'created_at': 'Sun Apr 24 02:13:16 +0000 2022', 'lng': 29.005222500000002, 'lat': 41.0213205, 'text': '@ilgin68 Amin🍀🍀'}\n",
            "{'id': 1518050413588754440, 'username': 'lukey_stanger', 'created_at': 'Sun Apr 24 02:13:17 +0000 2022', 'lng': -0.102162, 'lat': 51.5879015, 'text': '@Adam_price95 @allforthanookie Aye oh pal. How are you?'}\n",
            "{'id': 1518050415811735552, 'username': 'davspurs', 'created_at': 'Sun Apr 24 02:13:17 +0000 2022', 'lng': -2.7407225, 'lat': 53.368393499999996, 'text': '@StationCDRKelly They are a Country with a History of mental illness'}\n",
            "{'id': 1518050422518341633, 'username': 'carolawalker56', 'created_at': 'Sun Apr 24 02:13:19 +0000 2022', 'lng': -2.1556405, 'lat': 53.4146085, 'text': '@BorisJohnson @ZelenskyyUa You need to go and go now you abuse the office you hold you have zero respect of the people  ..'}\n",
            "{'id': 1518050436615491585, 'username': 'Outzie', 'created_at': 'Sun Apr 24 02:13:22 +0000 2022', 'lng': 9.1773475, 'lat': 48.7793015, 'text': '@pakinamamer Nice! I’ll get one 🤝🏼'}\n",
            "{'id': 1518050469049950208, 'username': 'BanTarleton36', 'created_at': 'Sun Apr 24 02:13:30 +0000 2022', 'lng': -1.29412, 'lat': 51.680143, 'text': \"@SmallerFishGAA Nick English is such a bore but in general the Sky coverage is much better than RTE. I'm grateful t… https://t.co/ukZN1KBtCE\"}\n",
            "{'id': 1518050482459136000, 'username': 'Tommasi52511564', 'created_at': 'Sun Apr 24 02:13:33 +0000 2022', 'lng': 12.5451455, 'lat': 41.898416499999996, 'text': '@SierraNevada #IPA #BEER #SaturdayEveningVibes #SaturdayVibes #drink #DrinkResponsibly Greetings from Rome !!! 🍻… https://t.co/J4TsLsIcbO'}\n",
            "{'id': 1518050484740931584, 'username': 'LeonWoDiscool', 'created_at': 'Sun Apr 24 02:13:34 +0000 2022', 'lng': 13.4246065, 'lat': 52.506701, 'text': '{Energyyyyyssssteealllinnngggggpeopllleeesooooooooomanyyyyyinnnnnmypaaaaassssstttthsssshshshshshshshshhshshshshshsh… https://t.co/ZEzMnLskE0'}\n",
            "{'id': 1518050503875346434, 'username': 'JoshKepreotis', 'created_at': 'Sun Apr 24 02:13:38 +0000 2022', 'lng': 23.5035255, 'lat': 37.0817305, 'text': '@WillowPillQueen my favourite ever Queen. Such a freaken star and soo happy she won #rupaulsdragracefinale https://t.co/6w0JOxIyaI'}\n",
            "{'id': 1518050568970940416, 'username': 'Littlenansbar', 'created_at': 'Sun Apr 24 02:13:54 +0000 2022', 'lng': -0.0265956, 'lat': 51.47869637, 'text': 'Honestly SO LOVELY to have you round your Arches of Dreams!! Back Open today from Midday, walk ins totes okay. See… https://t.co/KPdQf42Myp'}\n",
            "{'id': 1518050575123898368, 'username': 'nick1975', 'created_at': 'Sun Apr 24 02:13:55 +0000 2022', 'lng': -1.4813515000000002, 'lat': 52.516656999999995, 'text': '@BethMcKenna53 I love this set.'}\n",
            "{'id': 1518050598909849600, 'username': 'stephbriggsuk', 'created_at': 'Sun Apr 24 02:14:01 +0000 2022', 'lng': -2.4081865000000002, 'lat': 53.5262885, 'text': \"@SpaceDocMom @BridgeMakes Yes, Ma'am!\"}\n",
            "{'id': 1518050652307533824, 'username': 'TungsTweets', 'created_at': 'Sun Apr 24 02:14:14 +0000 2022', 'lng': -0.33394250000000003, 'lat': 53.765817, 'text': 'yikes ump'}\n",
            "{'id': 1518050660394090498, 'username': 'eserekli61', 'created_at': 'Sun Apr 24 02:14:16 +0000 2022', 'lng': 29.005222500000002, 'lat': 41.0213205, 'text': 'No one can protect me from Allah if I were to disobey Him, nor can I find any refuge other than Him. #Quran 72:22'}\n",
            "{'id': 1518050720796364800, 'username': 'ddamlaturk', 'created_at': 'Sun Apr 24 02:14:30 +0000 2022', 'lng': 29.005222500000002, 'lat': 41.0213205, 'text': 'Romeo ve Juliet gibi'}\n",
            "{'id': 1518050757093871618, 'username': 'zinhlees', 'created_at': 'Sun Apr 24 02:14:39 +0000 2022', 'lng': 2.347003, 'lat': 48.8588335, 'text': 'nah guys I discovered something crazyyyyy, like wdym I can share Spotify and Apple music live on facetime????'}\n",
            "{'id': 1518050762676391938, 'username': 'n0needtoargue', 'created_at': 'Sun Apr 24 02:14:40 +0000 2022', 'lng': -0.738308, 'lat': 51.51146, 'text': \"Fast Pass is 7 coins now ouch looks like that's the end of my FP run\"}\n",
            "{'id': 1518050778874798080, 'username': 'carolawalker56', 'created_at': 'Sun Apr 24 02:14:44 +0000 2022', 'lng': -2.1556405, 'lat': 53.4146085, 'text': '@keithoooooo @Wilketta1 @debedee21 Why have the moon when we can have the stars'}\n",
            "{'id': 1518050779420102656, 'username': 'SmartassHowie', 'created_at': 'Sun Apr 24 02:14:44 +0000 2022', 'lng': -4.1627405, 'lat': 55.961612, 'text': '@AgentPeggySSR What...He just needs to sneak into her room and casually spoon we?'}\n",
            "{'id': 1518050790904107008, 'username': 'veryhatefulguy', 'created_at': 'Sun Apr 24 02:14:47 +0000 2022', 'lng': -2.915427, 'lat': 53.4198785, 'text': 'white dads will play a marching drum to wake you up on the morning of a flight'}\n",
            "{'id': 1518050791071920131, 'username': 'chriscburrows', 'created_at': 'Sun Apr 24 02:14:47 +0000 2022', 'lng': -2.504527, 'lat': 53.501557000000005, 'text': 'Being up this early should be against the law!! Lol.Morning tweeters x. Have a good Sunday x https://t.co/LaRsXCGVHA'}\n",
            "{'id': 1518050853168586754, 'username': 'TorreRellotge', 'created_at': 'Sun Apr 24 02:15:02 +0000 2022', 'lng': 1.893817, 'lat': 41.545639, 'text': 'ding!!!!'}\n",
            "{'id': 1518050879286427648, 'username': 't4you', 'created_at': 'Sun Apr 24 02:15:08 +0000 2022', 'lng': 13.4246065, 'lat': 52.506701, 'text': '@TheStockKnight1 But only with a follow back 😂✅🇩🇪☝️🥰'}\n",
            "{'id': 1518050893198938113, 'username': 'mariaJviana9', 'created_at': 'Sun Apr 24 02:15:11 +0000 2022', 'lng': -8.621914, 'lat': 41.162142, 'text': '🎶 Restless Road🎶🧡🎶🔮 so beautiful 🥰🎞🎶https://t.co/FDxuscB4ct'}\n",
            "{'id': 1518050938224889856, 'username': 'Moggsee', 'created_at': 'Sun Apr 24 02:15:22 +0000 2022', 'lng': -3.9748195, 'lat': 53.2561115, 'text': '@DannyDeraney Growing up https://t.co/WdNepHMtX2'}\n",
            "{'id': 1518050956944056320, 'username': 'myles_morris', 'created_at': 'Sun Apr 24 02:15:26 +0000 2022', 'lng': -1.8906405, 'lat': 52.4939665, 'text': 'KD ain’t better than Desmond Bane or Jordan Poole.'}\n",
            "{'id': 1518050982227288064, 'username': 'ozin_oznur', 'created_at': 'Sun Apr 24 02:15:32 +0000 2022', 'lng': 28.696765, 'lat': 36.7865295, 'text': 'And lady sativa, I hate to leave ya.'}\n",
            "{'id': 1518050990645260288, 'username': '_BB_RADIO_MUSIC', 'created_at': 'Sun Apr 24 02:15:34 +0000 2022', 'lng': 13.1199934, 'lat': 52.381905, 'text': '#nowplaying #MandoDiao ~ Mando Diao | Dance With Somebody ||| #bbradio #rockt #berlin'}\n",
            "{'id': 1518050999063265280, 'username': 'kevinvitale05', 'created_at': 'Sun Apr 24 02:15:36 +0000 2022', 'lng': 16.245276, 'lat': 38.909647, 'text': 'guess who the fuck is coming back to town? https://t.co/xLMQYuXQOz'}\n",
            "{'id': 1518051034018496517, 'username': 'ImamNoonan', 'created_at': 'Sun Apr 24 02:15:45 +0000 2022', 'lng': -9.1065045, 'lat': 53.343312999999995, 'text': '@yagooie @SultanAmer99 @Grace19310628 @HuLuLuLu__ @CaesarJosephus @MrQbblog @IslamSins @IslamForLife77… https://t.co/0JONhTcjv1'}\n",
            "{'id': 1518051071272357891, 'username': 'drawyah_g', 'created_at': 'Sun Apr 24 02:15:54 +0000 2022', 'lng': 2.347003, 'lat': 48.8588335, 'text': '@tweakshasdrip All of these instant cops someday 🤞🤞 https://t.co/G1yF91jLQg'}\n",
            "{'id': 1518051092835282952, 'username': 'rosee_pt', 'created_at': 'Sun Apr 24 02:15:59 +0000 2022', 'lng': -9.397333, 'lat': 38.722466, 'text': 'will be'}\n",
            "{'id': 1518051132890923009, 'username': 'ImamNoonan', 'created_at': 'Sun Apr 24 02:16:08 +0000 2022', 'lng': -9.1065045, 'lat': 53.343312999999995, 'text': '@yagooie @SultanAmer99 @Grace19310628 @HuLuLuLu__ @CaesarJosephus @MrQbblog @IslamSins @IslamForLife77… https://t.co/1rftXZaQcv'}\n",
            "{'id': 1518051145561907203, 'username': 'MatthiasCFaust', 'created_at': 'Sun Apr 24 02:16:11 +0000 2022', 'lng': 10.861463, 'lat': 48.3546035, 'text': '@FlaPanthers @PHILLY_SZN he is and will always be our captain, come G , get the trophy #foreverflyer'}\n",
            "{'id': 1518051161370251264, 'username': 'Nafizshelby', 'created_at': 'Sun Apr 24 02:16:15 +0000 2022', 'lng': 2.398605, 'lat': 48.9340285, 'text': '@ZamalGOAT16 @Asensii20 @neymarjr Then.. Next jokes 💁\\u200d♂️'}\n",
            "{'id': 1518051189329436676, 'username': 'myles_morris', 'created_at': 'Sun Apr 24 02:16:22 +0000 2022', 'lng': -1.8906405, 'lat': 52.4939665, 'text': 'They called Harden a madman'}\n",
            "{'id': 1518051198380777472, 'username': 't4you', 'created_at': 'Sun Apr 24 02:16:24 +0000 2022', 'lng': 13.4246065, 'lat': 52.506701, 'text': '@ChiSportzKid Jason Tatum ☘️✅'}\n",
            "{'id': 1518051198435274752, 'username': 'bl0ssomval', 'created_at': 'Sun Apr 24 02:16:24 +0000 2022', 'lng': -0.216108, 'lat': 51.498387, 'text': 'i want her brah'}\n",
            "{'id': 1518051208577048577, 'username': 'OskiSozanski', 'created_at': 'Sun Apr 24 02:16:26 +0000 2022', 'lng': 18.6495985, 'lat': 50.3008925, 'text': 'Keep your dreams alive! 🥰 #dreamstate #dreamstateeurope #dreamstatepoland #trance #trancefamily #gliwice… https://t.co/3ElYQjsZvv'}\n",
            "{'id': 1518051300319154182, 'username': 'jrowley37', 'created_at': 'Sun Apr 24 02:16:48 +0000 2022', 'lng': -2.3495665, 'lat': 53.475303499999995, 'text': 'Hey darling. Feeling kinda blue tonight, any hope you can lift this battle scared warrior up 🍌'}\n",
            "{'id': 1518051381394821120, 'username': 'Angel_Deejay_', 'created_at': 'Sun Apr 24 02:17:08 +0000 2022', 'lng': -8.71084582, 'lat': 39.84186317, 'text': 'Solidarity for Ukrain ..from Kiev.@djchristymillion  performing at @palace_kiay @the_real_president_zelinsky… https://t.co/I9Lhz5Vuyp'}\n",
            "{'id': 1518051417491181569, 'username': 'chaseyerself', 'created_at': 'Sun Apr 24 02:17:16 +0000 2022', 'lng': -4.200441, 'lat': 57.739454, 'text': '@HN_JAD @CurivariCigars @CigarChairman @PistolCliff @RobustoBabe @CalvinThomps99 @TNHerfin @JeffBOTL @rlilly1018… https://t.co/AIqxIuH1nm'}\n",
            "{'id': 1518051419038883840, 'username': 'nassaraziz', 'created_at': 'Sun Apr 24 02:17:16 +0000 2022', 'lng': -0.018734, 'lat': 51.5992555, 'text': 'We heard AYUOB Khan Resigned after heard “Kuta” from his Grand children that call Alive Conscience… https://t.co/WSUR9nez3G'}\n",
            "{'id': 1518051447774097410, 'username': 'MiguelNunesMCN', 'created_at': 'Sun Apr 24 02:17:23 +0000 2022', 'lng': -8.621914, 'lat': 41.162142, 'text': '@Twitter is cool! ⭐'}\n",
            "{'id': 1518051449057562625, 'username': 'tanyareid107', 'created_at': 'Sun Apr 24 02:17:24 +0000 2022', 'lng': -4.0311015, 'lat': 55.859916, 'text': '@officialEIHL @ClanIHC @glasgow_clan @cardiffdevils Clan managing to pull off a vital goal lead puts them in a gr8… https://t.co/wMHFDPpR9a'}\n",
            "{'id': 1518051469903212546, 'username': 'zinhlees', 'created_at': 'Sun Apr 24 02:17:29 +0000 2022', 'lng': 2.347003, 'lat': 48.8588335, 'text': 'GUYS I JUST FOUND A GLITCH OMDSSSSS'}\n",
            "{'id': 1518051486487519233, 'username': 'confessorkev', 'created_at': 'Sun Apr 24 02:17:33 +0000 2022', 'lng': -5.928413, 'lat': 54.595869, 'text': \"@TwinzDynamic I'm guessing u both are Golden Axe fans?\"}\n",
            "{'id': 1518051503059177478, 'username': 'EDogramac', 'created_at': 'Sun Apr 24 02:17:37 +0000 2022', 'lng': 35.28488, 'lat': 37.0028265, 'text': \"I am in the running to win EizperChain INO WL Spots &amp; Airdrop worth 10,000 $EIZ 🔥 , Don't miss the EizperChain aird… https://t.co/vJUnKVyo5f\"}\n",
            "{'id': 1518051517038829571, 'username': 'JoeyPanda17', 'created_at': 'Sun Apr 24 02:17:40 +0000 2022', 'lng': -0.12290955, 'lat': 51.48747609, 'text': '“Friday Night You And Your Boys Went Out To Eat”#joko #joli @ Vauxhall https://t.co/OVbUqRtlnc'}\n",
            "{'id': 1518051540807864322, 'username': 'StuartCrypto', 'created_at': 'Sun Apr 24 02:17:46 +0000 2022', 'lng': -5.075986, 'lat': 50.415572499999996, 'text': '@occultb0t Too right ! 👍💪'}\n",
            "{'id': 1518051547594305539, 'username': 'renewandel', 'created_at': 'Sun Apr 24 02:17:47 +0000 2022', 'lng': 12.6499885, 'lat': 55.622398000000004, 'text': 'Goodbye 🙃 Brooklyn Goodbye Nash 🙏 #NBAPlayoffs #BrooklynNets #goodbyeNash https://t.co/CBIzpsIaZN'}\n",
            "{'id': 1518051576753053701, 'username': 'ZeljkoPanticDCC', 'created_at': 'Sun Apr 24 02:17:54 +0000 2022', 'lng': 20.388116, 'lat': 44.836092, 'text': '@JandersonSacBee Just imagine how suicidal would be decision to trade Fox for Simmons… Sacramento dodged huge bullet during trade season…'}\n",
            "{'id': 1518051581614297089, 'username': 'aaronashmore8', 'created_at': 'Sun Apr 24 02:17:55 +0000 2022', 'lng': -1.5186514999999998, 'lat': 52.411913, 'text': '@Kaytea21 Hi Katy, a very proud bro indeed! Great to see you!! 😀😀'}\n",
            "{'id': 1518051614191464451, 'username': 'Jaypapa_AFC', 'created_at': 'Sun Apr 24 02:18:03 +0000 2022', 'lng': -0.1909515, 'lat': 51.9023015, 'text': 'I love you'}\n",
            "{'id': 1518051650224668674, 'username': 'jrowley37', 'created_at': 'Sun Apr 24 02:18:12 +0000 2022', 'lng': -2.3495665, 'lat': 53.475303499999995, 'text': 'Have to say here, he doesn’t look all that thrilled 🤷\\u200d♂️'}\n",
            "{'id': 1518051656155475969, 'username': 'chaseyerself', 'created_at': 'Sun Apr 24 02:18:13 +0000 2022', 'lng': -4.200441, 'lat': 57.739454, 'text': '@Cigar_Heid @FoundationCigar Foundation do some great cigars.'}\n",
            "{'id': 1518051684097867776, 'username': 'm_obendorfer', 'created_at': 'Sun Apr 24 02:18:20 +0000 2022', 'lng': 10.960778, 'lat': 49.4886975, 'text': 'The beautiful #nature 🥰💚🌳🐿️#EarthDay #squirrel'}\n",
            "{'id': 1518051697507057665, 'username': 't4you', 'created_at': 'Sun Apr 24 02:18:23 +0000 2022', 'lng': 13.4246065, 'lat': 52.506701, 'text': '@SplashInteIlect You should follow too ☝️☘️🙏 🥰🇩🇪'}\n",
            "{'id': 1518051703144255488, 'username': 'AS_Gimba', 'created_at': 'Sun Apr 24 02:18:24 +0000 2022', 'lng': 4.62013, 'lat': 52.451448, 'text': '@mamiimahh Toh hajiya. They tend to project a superficial perspective of life on Twitter. Over the most irrelevant… https://t.co/rFKn8fv9y4'}\n",
            "{'id': 1518051720659623936, 'username': 'zeeshan_A16', 'created_at': 'Sun Apr 24 02:18:28 +0000 2022', 'lng': -0.5488355, 'lat': 51.316522, 'text': '@cannoliqween Fr especially for the sake of her child and anyone else she would otherwise get the chance to terrorize.'}\n",
            "{'id': 1518051731992580101, 'username': 'SpaghettiB', 'created_at': 'Sun Apr 24 02:18:31 +0000 2022', 'lng': -4.259, 'lat': 55.858, 'text': 'Just posted a photo @ Glasgow, United Kingdom https://t.co/lse1bCvCHr'}\n",
            "{'id': 1518051734505017346, 'username': 'shepherdgirl1', 'created_at': 'Sun Apr 24 02:18:32 +0000 2022', 'lng': -4.4351965, 'lat': 57.599162, 'text': '@britbristow @hallmarkchannel @ChrisMcNally_ @HumberlyG I do feel for you guys texting people back. Especially when… https://t.co/s1TJnK9YK8'}\n",
            "{'id': 1518051750514761730, 'username': 'DenetricMalope', 'created_at': 'Sun Apr 24 02:18:36 +0000 2022', 'lng': 2.347003, 'lat': 48.8588335, 'text': '@TshepiOlivia happy birthday 🥳 https://t.co/3rHI2q6wu7'}\n",
            "{'id': 1518051765941420032, 'username': 'AndyRowley17', 'created_at': 'Sun Apr 24 02:18:39 +0000 2022', 'lng': -1.172266, 'lat': 52.969719, 'text': '@tinyfairyslut Very very very nice 🔥😘🥰💋🌺💯🍑😈👌💓😍🌹'}\n",
            "{'id': 1518051783934988293, 'username': 'n0needtoargue', 'created_at': 'Sun Apr 24 02:18:43 +0000 2022', 'lng': -0.738308, 'lat': 51.51146, 'text': 'Please the way it just kept going lmao why'}\n",
            "{'id': 1518051793674158080, 'username': 'calumbyyourname', 'created_at': 'Sun Apr 24 02:18:46 +0000 2022', 'lng': -5.928413, 'lat': 54.595869, 'text': 'Ok marry me then @mishacollins https://t.co/bhec3rEA1f'}\n",
            "{'id': 1518051824162459650, 'username': 'EDogramac', 'created_at': 'Sun Apr 24 02:18:53 +0000 2022', 'lng': 35.28488, 'lat': 37.0028265, 'text': '@EizperChain Nice project'}\n",
            "{'id': 1518051866139144194, 'username': 'DerryaireVerne', 'created_at': 'Sun Apr 24 02:19:03 +0000 2022', 'lng': 8.241683, 'lat': 46.8353015, 'text': '@jenn424_ 53 years on the 28th.... happy birthday'}\n",
            "{'id': 1518051896623341568, 'username': 'basicallychams', 'created_at': 'Sun Apr 24 02:19:10 +0000 2022', 'lng': 0.044914, 'lat': 51.5160475, 'text': 'My teacher made this really neat shirt if anyone wants to watch it. https://t.co/osA7oXf3rl :)'}\n",
            "{'id': 1518051909717929984, 'username': 'myles_morris', 'created_at': 'Sun Apr 24 02:19:13 +0000 2022', 'lng': -1.8906405, 'lat': 52.4939665, 'text': 'Desmond Bane is unreal'}\n",
            "{'id': 1518051942131548160, 'username': 'TRACYGAVIN16', 'created_at': 'Sun Apr 24 02:19:21 +0000 2022', 'lng': -2.378432, 'lat': 53.751716, 'text': '@TinaSmi62976501 @GhostAdventures @Zak_Bagans @AaronGoodwin @BillyTolley @jaywasley Thanks for picture of my love h… https://t.co/SkUdrOlopV'}\n",
            "{'id': 1518051951048540162, 'username': 'BLblacksmith', 'created_at': 'Sun Apr 24 02:19:23 +0000 2022', 'lng': 20.388116, 'lat': 44.836092, 'text': '@Joel_alv01 @GojiHeisei @WorldWideWob You’re a master of self ratio https://t.co/ZoidsrlpGX'}\n",
            "{'id': 1518051952709586945, 'username': 'ayostake', 'created_at': 'Sun Apr 24 02:19:24 +0000 2022', 'lng': -0.102162, 'lat': 51.5879015, 'text': '@Frankyjiggy Foolish, senseless, daft &amp; irresponsible.'}\n",
            "{'id': 1518051954311806976, 'username': 'aaronashmore8', 'created_at': 'Sun Apr 24 02:19:24 +0000 2022', 'lng': -1.5186514999999998, 'lat': 52.411913, 'text': 'A portrait courtesy of @ynesmusic! https://t.co/8lfTr3G1Vi'}\n",
            "{'id': 1518051966735335429, 'username': 'johnbreslin', 'created_at': 'Sun Apr 24 02:19:27 +0000 2022', 'lng': -9.1065045, 'lat': 53.343312999999995, 'text': 'Fuck you Putin'}\n",
            "{'id': 1518051970443055104, 'username': 'Sasoe09', 'created_at': 'Sun Apr 24 02:19:28 +0000 2022', 'lng': 4.243494500000001, 'lat': 50.788536, 'text': 'La version fortnite https://t.co/62MjKiRBo9'}\n",
            "{'id': 1518052042002116618, 'username': 'astolante', 'created_at': 'Sun Apr 24 02:19:45 +0000 2022', 'lng': -1.56549, 'lat': 53.801956000000004, 'text': \"@mincemeatlive singing Sail On, Boys to my pet snail and picking it out on my piano, I can't bloody wait to see you again\"}\n",
            "{'id': 1518052052169109505, 'username': 'eq_map_ww2', 'created_at': 'Sun Apr 24 02:19:47 +0000 2022', 'lng': 21.13, 'lat': 37.0, 'text': '【ML3.7】SOUTHERN GREECE Depth 2km Apr 24, 2022 02:16:47 UTC (G)https://t.co/6bDo4hKIWe (EMSC)https://t.co/2KtWJNBMbK'}\n",
            "{'id': 1518052060725497858, 'username': 'EDogramac', 'created_at': 'Sun Apr 24 02:19:49 +0000 2022', 'lng': 35.28488, 'lat': 37.0028265, 'text': '@WebcoinCapital @EizperChain @mer29626085 @binance @Mog74691892 nice project'}\n",
            "{'id': 1518052112231538688, 'username': 'basicallychams', 'created_at': 'Sun Apr 24 02:20:02 +0000 2022', 'lng': 0.044914, 'lat': 51.5160475, 'text': 'creative bag reloading…'}\n",
            "{'id': 1518052118741016577, 'username': 'hood_ip', 'created_at': 'Sun Apr 24 02:20:03 +0000 2022', 'lng': -2.1168695, 'lat': 53.542865500000005, 'text': '@ImranRiazKhan Back in 2016, Nawaz had 4 options for COAS, He chose a Gwalmandi S.H.O Type Fatty, Tired old man. Lo… https://t.co/Z6vIBhslrH'}\n",
            "{'id': 1518052126299234306, 'username': 'DerryaireVerne', 'created_at': 'Sun Apr 24 02:20:05 +0000 2022', 'lng': 8.241683, 'lat': 46.8353015, 'text': '@jenn424_ Thanks.'}\n",
            "{'id': 1518052170502918145, 'username': 't4you', 'created_at': 'Sun Apr 24 02:20:16 +0000 2022', 'lng': 13.4246065, 'lat': 52.506701, 'text': '@SplashInteIlect IfB (but I’m ok the limit - should wait for the fb so don’t be afraid - I’ll flw back ! 💯'}\n",
            "{'id': 1518052191017349122, 'username': 'spicynayi', 'created_at': 'Sun Apr 24 02:20:21 +0000 2022', 'lng': 6.9071964999999995, 'lat': 49.992975, 'text': 'Lately I’ve been saying angel numbers everywhere what does it mean'}\n",
            "{'id': 1518052197585633284, 'username': 'matis_bogdan', 'created_at': 'Sun Apr 24 02:20:22 +0000 2022', 'lng': -0.0706035, 'lat': 51.464686, 'text': \"@ChuckPfarrer They keep coming and keep dying. How long before they can't take it anymore?\"}\n",
            "{'id': 1518052255018229761, 'username': 'DeezyDevs', 'created_at': 'Sun Apr 24 02:20:36 +0000 2022', 'lng': -4.2417514999999995, 'lat': 55.85830249999999, 'text': 'Street Fighter Alpha 2'}\n",
            "{'id': 1518052269291417601, 'username': 'Tonye237', 'created_at': 'Sun Apr 24 02:20:39 +0000 2022', 'lng': 11.642021, 'lat': 52.127018, 'text': '@WilFrime @Basket_Infos @_bryyd_ Tatum le consomme'}\n",
            "{'id': 1518052274337157122, 'username': 'SmolarekMichal', 'created_at': 'Sun Apr 24 02:20:40 +0000 2022', 'lng': 9.8255055, 'lat': 53.709447, 'text': '@Michell08448563 @TiffanyNursee Mmm... so yummi 🤤🤤🤤show me'}\n",
            "{'id': 1518052279374553089, 'username': 'G__Kar', 'created_at': 'Sun Apr 24 02:20:42 +0000 2022', 'lng': 37.427642500000005, 'lat': 55.7547875, 'text': \"@EcstaticFemme @Aella_Girl It's pretty normal - until I've got my own, it was a few hours max with friends' babies in 10 years\"}\n",
            "{'id': 1518052288408997896, 'username': 'laurenn4x', 'created_at': 'Sun Apr 24 02:20:44 +0000 2022', 'lng': -1.5186514999999998, 'lat': 52.411913, 'text': 'i always forget taylor swift was in hannah montana the movie'}\n",
            "{'id': 1518052291928023043, 'username': 'stakesocial', 'created_at': 'Sun Apr 24 02:20:45 +0000 2022', 'lng': -2.20046372, 'lat': 53.4832938, 'text': 'A few players got really close but none nailed this  high score as @mancity puts pressure on @liverpoolfc in the ti… https://t.co/Jra0W2Wwke'}\n",
            "{'id': 1518052294046138371, 'username': 'DpaLounges', 'created_at': 'Sun Apr 24 02:20:45 +0000 2022', 'lng': 7.02539742, 'lat': 43.55018108, 'text': 'Just posted a photo @ JW Marriott Cannes https://t.co/ndMrKUTr2v'}\n",
            "{'id': 1518052366930661376, 'username': 'NancyELandrum', 'created_at': 'Sun Apr 24 02:21:02 +0000 2022', 'lng': 12.386702499999998, 'lat': 51.3415155, 'text': '@PhDlife_ @PhDVoice 2 years'}\n",
            "{'id': 1518052396517277696, 'username': 'iamaliwajee', 'created_at': 'Sun Apr 24 02:21:10 +0000 2022', 'lng': 2.347003, 'lat': 48.8588335, 'text': '@ovshake42 Nurdle - Cricket-themed Wordle 86 6/6\\U0001f7e9⬜⬜⬜\\U0001f7e9\\U0001f7e9⬜⬜⬜\\U0001f7e9\\U0001f7e9⬜⬜\\U0001f7e9⬜\\U0001f7e9⬜⬜⬜\\U0001f7e8⬜\\U0001f7e9⬜\\U0001f7e8⬜\\U0001f7e9\\U0001f7e9\\U0001f7e9\\U0001f7e9\\U0001f7e9'}\n",
            "{'id': 1518052422349901824, 'username': 'trafficgifs', 'created_at': 'Sun Apr 24 02:21:16 +0000 2022', 'lng': -0.10762, 'lat': 51.5492, 'text': 'Holloway Road South at Fieldway Crescent https://t.co/SBZ9teyjYO'}\n",
            "{'id': 1518052425168568321, 'username': 'sari_kansala', 'created_at': 'Sun Apr 24 02:21:16 +0000 2022', 'lng': 23.37427, 'lat': 61.449980499999995, 'text': \"@AdmiralAegis Dear Japanese relatives, I'm kind of bitter last war niggas framed Pearl Harbour, Russia did same to… https://t.co/wu5iUaeu4l\"}\n",
            "{'id': 1518052491774021633, 'username': '63yildirimmm', 'created_at': 'Sun Apr 24 02:21:32 +0000 2022', 'lng': 29.005222500000002, 'lat': 41.0213205, 'text': '@manisatokat4560 Amin ecmain'}\n",
            "{'id': 1518052500967804928, 'username': 'Moggsee', 'created_at': 'Sun Apr 24 02:21:34 +0000 2022', 'lng': -3.9748195, 'lat': 53.2561115, 'text': '@DannyDeraney But I did actually think, people who had the letter X on their car number plate, were evil or part of… https://t.co/qq7Aas1whW'}\n",
            "{'id': 1518052504164093952, 'username': 'RichardMaxwell2', 'created_at': 'Sun Apr 24 02:21:35 +0000 2022', 'lng': -1.6453615, 'lat': 54.9920555, 'text': '@brunoog97 Whoever convinced you to sign needs a pay rise - you are pure class!!'}\n",
            "{'id': 1518052533494857728, 'username': 'suze1969', 'created_at': 'Sun Apr 24 02:21:42 +0000 2022', 'lng': -0.5928514, 'lat': 52.30574272, 'text': 'Been out for birthday drinks today. #happybirthday #happybelatedbirthday @ Carriage House https://t.co/lKRYGQIXAE'}\n"
          ]
        },
        {
          "output_type": "display_data",
          "data": {
            "text/plain": [
              "<IPython.core.display.Javascript object>"
            ],
            "application/javascript": [
              "\n",
              "    async function download(id, filename, size) {\n",
              "      if (!google.colab.kernel.accessAllowed) {\n",
              "        return;\n",
              "      }\n",
              "      const div = document.createElement('div');\n",
              "      const label = document.createElement('label');\n",
              "      label.textContent = `Downloading \"${filename}\": `;\n",
              "      div.appendChild(label);\n",
              "      const progress = document.createElement('progress');\n",
              "      progress.max = size;\n",
              "      div.appendChild(progress);\n",
              "      document.body.appendChild(div);\n",
              "\n",
              "      const buffers = [];\n",
              "      let downloaded = 0;\n",
              "\n",
              "      const channel = await google.colab.kernel.comms.open(id);\n",
              "      // Send a message to notify the kernel that we're ready.\n",
              "      channel.send({})\n",
              "\n",
              "      for await (const message of channel.messages) {\n",
              "        // Send a message to notify the kernel that we're ready.\n",
              "        channel.send({})\n",
              "        if (message.buffers) {\n",
              "          for (const buffer of message.buffers) {\n",
              "            buffers.push(buffer);\n",
              "            downloaded += buffer.byteLength;\n",
              "            progress.value = downloaded;\n",
              "          }\n",
              "        }\n",
              "      }\n",
              "      const blob = new Blob(buffers, {type: 'application/binary'});\n",
              "      const a = document.createElement('a');\n",
              "      a.href = window.URL.createObjectURL(blob);\n",
              "      a.download = filename;\n",
              "      div.appendChild(a);\n",
              "      a.click();\n",
              "      div.remove();\n",
              "    }\n",
              "  "
            ]
          },
          "metadata": {}
        },
        {
          "output_type": "display_data",
          "data": {
            "text/plain": [
              "<IPython.core.display.Javascript object>"
            ],
            "application/javascript": [
              "download(\"download_b9c42756-9d98-4b29-88b2-5a3fa236f7d2\", \"geotweets.csv\", 19937)"
            ]
          },
          "metadata": {}
        },
        {
          "output_type": "stream",
          "name": "stdout",
          "text": [
            "the csv has been downloaded to your local computer. The program has been completed successfully.\n"
          ]
        }
      ],
      "source": [
        "if __name__ == \"__main__\":\n",
        "    # These are provided to you through the Twitter API after you create a account\n",
        "    # register a Twitter App to get the keys and access tokens.\n",
        "    output_file = '/gdrive/My Drive/geotweets.csv'\n",
        "\n",
        "    # Apply for your own Twitter API keys at https://developer.twitter.com/en/apply-for-access\n",
        "    \n",
        "\n",
        "    myauth = tweepy.OAuthHandler(consumer_key, consumer_secret)\n",
        "    myauth.set_access_token(access_token, access_token_secret)\n",
        "\n",
        "    # LOCATIONS are the longitude, latitude coordinate corners for a box that restricts the\n",
        "    # geographic area from which you will stream tweets. The first two define the southwest\n",
        "    # corner of the box and the second two define the northeast corner of the box.\n",
        "    LOCATIONS = [-11.250000, 36.031332, 44.648438, 71.074076]  # Europe\n",
        "\n",
        "    stream_listener = StreamListener(time_limit=600, file=output_file)\n",
        "    stream = tweepy.Stream(auth=myauth, listener=stream_listener)\n",
        "    stream.filter(locations=LOCATIONS, languages=['en'], encoding=\"utf-8\")"
      ]
    }
  ],
  "metadata": {
    "colab": {
      "collapsed_sections": [],
      "name": "Copy of 02_geosearch.ipynb",
      "provenance": []
    },
    "kernelspec": {
      "display_name": "Python 3",
      "language": "python",
      "name": "python3"
    },
    "language_info": {
      "codemirror_mode": {
        "name": "ipython",
        "version": 3
      },
      "file_extension": ".py",
      "mimetype": "text/x-python",
      "name": "python",
      "nbconvert_exporter": "python",
      "pygments_lexer": "ipython3",
      "version": "3.7.4"
    }
  },
  "nbformat": 4,
  "nbformat_minor": 0
}